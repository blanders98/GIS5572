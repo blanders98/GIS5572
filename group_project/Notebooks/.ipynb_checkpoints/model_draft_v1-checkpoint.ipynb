{
 "cells": [
  {
   "cell_type": "markdown",
   "id": "407f68fb-373f-4e6e-899d-f3e26a4df1d7",
   "metadata": {},
   "source": [
    "# Set Up"
   ]
  },
  {
   "cell_type": "markdown",
   "id": "9142235e-3484-416a-a1a5-2d88324be428",
   "metadata": {},
   "source": [
    "## Libraries"
   ]
  },
  {
   "cell_type": "code",
   "execution_count": 15,
   "id": "faab4e54-f001-4970-9b82-1fb5a3b104aa",
   "metadata": {},
   "outputs": [],
   "source": [
    "import os\n",
    "import psycopg2\n",
    "from psycopg2 import sql\n",
    "import pandas as pd\n",
    "import geopandas as gpd\n",
    "import matplotlib.pyplot as plt\n",
    "import numpy as np"
   ]
  },
  {
   "cell_type": "markdown",
   "id": "5f66a299-fa63-4d6d-b7ac-2ca04ff5439c",
   "metadata": {},
   "source": [
    "## Data\n",
    "### (Database Connection)"
   ]
  },
  {
   "cell_type": "code",
   "execution_count": null,
   "id": "2f49525f-e32f-4943-b1d7-bf5e7d658655",
   "metadata": {},
   "outputs": [],
   "source": [
    "# Database connection parameters\n",
    "db_host = 'your_host'\n",
    "db_name = 'your_database'\n",
    "db_user = 'your_username'\n",
    "db_password = 'your_password'\n",
    "\n",
    "# Establish connection\n",
    "try:\n",
    "    connection = psycopg2.connect(\n",
    "        host=db_host,\n",
    "        database=db_name,\n",
    "        user=db_user,\n",
    "        password=db_password\n",
    "    )\n",
    "    cursor = connection.cursor()\n",
    "    print(\"Connection successful!\")\n",
    "\n",
    "    # Example query\n",
    "    cursor.execute(sql.SQL(\"SELECT version();\"))\n",
    "    record = cursor.fetchone()\n",
    "    print(\"Database version:\", record)\n",
    "\n",
    "except Exception as error:\n",
    "    print(\"Error while connecting to PostgreSQL:\", error)\n",
    "finally:\n",
    "    if connection:\n",
    "        cursor.close()\n",
    "        connection.close()\n",
    "        print(\"PostgreSQL connection closed.\")"
   ]
  },
  {
   "cell_type": "markdown",
   "id": "6fab1f50-7d88-4a2b-a13e-5eb61f1f4216",
   "metadata": {},
   "source": [
    "# Model"
   ]
  },
  {
   "cell_type": "code",
   "execution_count": null,
   "id": "4b8ef161-9a00-4d06-8f60-b02bc3a59c60",
   "metadata": {},
   "outputs": [],
   "source": []
  },
  {
   "cell_type": "markdown",
   "id": "0a0d35c6-3cb8-49d8-94b1-3b5082f023f6",
   "metadata": {},
   "source": [
    "# Visualize"
   ]
  },
  {
   "cell_type": "code",
   "execution_count": null,
   "id": "26920531-e46d-43f8-b7ae-a978d0541b98",
   "metadata": {},
   "outputs": [],
   "source": []
  }
 ],
 "metadata": {
  "kernelspec": {
   "display_name": "Python 3 (ipykernel)",
   "language": "python",
   "name": "python3"
  },
  "language_info": {
   "codemirror_mode": {
    "name": "ipython",
    "version": 3
   },
   "file_extension": ".py",
   "mimetype": "text/x-python",
   "name": "python",
   "nbconvert_exporter": "python",
   "pygments_lexer": "ipython3",
   "version": "3.12.7"
  }
 },
 "nbformat": 4,
 "nbformat_minor": 5
}
