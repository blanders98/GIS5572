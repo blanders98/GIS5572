{
 "cells": [
  {
   "cell_type": "code",
   "execution_count": 2,
   "metadata": {},
   "outputs": [],
   "source": [
    "import arcpy\n",
    "import os\n",
    "import psycopg2\n",
    "\n",
    "os.chdir(r\"C:\\Users\\benla\\Desktop\\Grad_School\\Classes\\GIS5572_SpatialDataScience\\Assignments\\Labs\\Lab1\\data\")"
   ]
  },
  {
   "cell_type": "code",
   "execution_count": 3,
   "metadata": {},
   "outputs": [
    {
     "name": "stdout",
     "output_type": "stream",
     "text": [
      "WKT: MULTIPOLYGON (((13 22, 13.838709677419354 16.129032258064516, 24 20, 13 22)), ((3 12, 13.342105263157894 15.93984962406015, 7 25, 3 12)), ((14 15, 13.838709677419354 16.129032258064516, 13.342105263157894 15.93984962406015, 14 15)))\n"
     ]
    }
   ],
   "source": [
    "# Define the coordinates for the polygon vertices\n",
    "points = [arcpy.Point(13, 22), arcpy.Point(14, 15), arcpy.Point(7, 25), arcpy.Point(3, 12), arcpy.Point(24, 20)]\n",
    "\n",
    "# Create a polygon geometry object\n",
    "polygon = arcpy.Polygon(arcpy.Array(points))\n",
    "\n",
    "# Convert the polygon to WKT\n",
    "wkt = polygon.WKT\n",
    "print(\"WKT:\", wkt)"
   ]
  },
  {
   "cell_type": "code",
   "execution_count": 4,
   "metadata": {},
   "outputs": [],
   "source": [
    "# Connect to your PostGIS database\n",
    "connection = psycopg2.connect(\n",
    "    dbname=\"lab0\",\n",
    "    user=\"postgres\",\n",
    "    password=\"**********\",\n",
    "    host=\"34.27.75.243\",\n",
    "    port=\"5432\"\n",
    ")\n",
    "cursor = connection.cursor()\n",
    "\n",
    "# Create the geometries table if it does not exist\n",
    "create_table_query = \"\"\"\n",
    "CREATE TABLE IF NOT EXISTS geometries (\n",
    "    id SERIAL PRIMARY KEY,\n",
    "    geom GEOMETRY\n",
    ");\n",
    "\"\"\"\n",
    "cursor.execute(create_table_query)\n",
    "connection.commit()"
   ]
  },
  {
   "cell_type": "code",
   "execution_count": 5,
   "metadata": {},
   "outputs": [
    {
     "name": "stdout",
     "output_type": "stream",
     "text": [
      "Polygon inserted successfully into PostGIS database.\n"
     ]
    }
   ],
   "source": [
    "# Insert the WKT into your table\n",
    "insert_query = \"INSERT INTO geometries (geom) VALUES (ST_GeomFromText(%s, 4326));\"\n",
    "cursor.execute(insert_query, (wkt,))\n",
    "connection.commit()\n",
    "\n",
    "# Close the connection\n",
    "cursor.close()\n",
    "connection.close()\n",
    "\n",
    "print(\"Polygon inserted successfully into PostGIS database.\")"
   ]
  }
 ],
 "metadata": {
  "kernelspec": {
   "display_name": "ArcGISPro",
   "language": "python",
   "name": "python3"
  },
  "language_info": {
   "file_extension": ".py",
   "mimetype": "text/x-python",
   "name": "python",
   "version": "3.11.10"
  }
 },
 "nbformat": 4,
 "nbformat_minor": 4
}
